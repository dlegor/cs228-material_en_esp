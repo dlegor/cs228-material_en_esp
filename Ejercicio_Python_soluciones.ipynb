{
 "cells": [
  {
   "cell_type": "markdown",
   "metadata": {},
   "source": [
    "Ejercicio Python\n",
    "=========\n",
    "\n",
    "Los siguientes son ejercicios son propuestos en las notas:\n",
    "** El lenguaje Python**\n",
    "\n",
    "Escrito por el profesor [David Masip Rodó](http://sunai.uoc.edu/~dmasipr/) de la Universidad Oberta de Cataluña.\n",
    "\n",
    "Dejé escrito el enunciado original y las soluciones son mi propuesta de solución, cualquiera puede modificar y hacer su versión. \n",
    "\n",
    "\n",
    "1.- Escribir una función que reciba una lista y regrese una lista con los mismo elementos pero ordenados al reves. No usar el método reverse() de tipo de dato List."
   ]
  },
  {
   "cell_type": "code",
   "execution_count": 1,
   "metadata": {
    "collapsed": true
   },
   "outputs": [],
   "source": [
    "def Reverse(Lista):\n",
    "    if len(Lista)==0 or len(Lista)==1:\n",
    "        return Lista\n",
    "    else:\n",
    "        a=[]\n",
    "        for i in Lista:\n",
    "            a.append(Lista.pop())\n",
    "        a.extend(Lista)    \n",
    "    \n",
    "    return  a                      "
   ]
  },
  {
   "cell_type": "markdown",
   "metadata": {},
   "source": [
    "2.Escribid una función que, dado un número entero N, devuelva una lista con todos los\n",
    "números primos hasta N. Para solucionar el ejercicio debéis crear una función auxiliar que\n",
    "indique si un determinado número es primo (retornando un valor booleano)"
   ]
  },
  {
   "cell_type": "code",
   "execution_count": 2,
   "metadata": {
    "collapsed": true
   },
   "outputs": [],
   "source": [
    "#Función para Saber si un número es primo.....No probar con un númer \"muy grande!!!!\"\n",
    "def Primo(V1):\n",
    "    if V1==0:\n",
    "        return False\n",
    "    elif V1==2 or V1==1:\n",
    "        return True\n",
    "    else:\n",
    "        for i in range(2,V1):\n",
    "            if(V1%i)==0:\n",
    "                return False\n",
    "                break\n",
    "        return True\n",
    "            \n",
    "def Lista_Primos(N):\n",
    "    \"Se regresa una lista con los primeros hasta el Numero N\"\n",
    "    L=list(range(N))\n",
    "    return [i for i in L if Primo(i)==True]"
   ]
  },
  {
   "cell_type": "markdown",
   "metadata": {},
   "source": [
    "3.Escribid una función que reciba una tupla compuesta por caracteres, y devuelva una lista\n",
    "con los caracteres en mayúsculas. Debéis recorrer la tupla carácter a carácter para realizar\n",
    "la conversión. Para convertir un carácter a mayúscula podéis usar el método upper(). Por\n",
    "ejemplo ’a’.upper() nos devuelve ’A’."
   ]
  },
  {
   "cell_type": "code",
   "execution_count": 3,
   "metadata": {
    "collapsed": true
   },
   "outputs": [],
   "source": [
    "#Función\n",
    "\n",
    "def Trans_Tuplas(L):\n",
    "    \"\"\"Recibe una Tubla con Caracteres y regresa una lista con todos los elementos en Mayusculas\"\"\"\n",
    "    if type(L)==tuple:\n",
    "        return [i.upper() for i in L]\n",
    "    else:\n",
    "        return print(\"Solo funciona para tuplas!\")"
   ]
  },
  {
   "cell_type": "markdown",
   "metadata": {},
   "source": [
    "4.Convertid el texto ’ejemplo’ en una lista que contenga sus 7 caracteres. Después conver-\n",
    "tidlo en una tupla y usando la función del ejercicio anterior obtened una lista con el texto\n",
    "en mayúsculas."
   ]
  },
  {
   "cell_type": "code",
   "execution_count": 4,
   "metadata": {},
   "outputs": [
    {
     "data": {
      "text/plain": [
       "['E', 'J', 'E', 'M', 'P', 'L', 'O']"
      ]
     },
     "execution_count": 4,
     "metadata": {},
     "output_type": "execute_result"
    }
   ],
   "source": [
    "s='ejemplo'\n",
    "L=tuple([i for i in s])\n",
    "\n",
    "Trans_Tuplas(L)"
   ]
  },
  {
   "cell_type": "markdown",
   "metadata": {},
   "source": [
    "5.Escribid una función que, dada una lista de números, devuelva una lista con sólo los\n",
    "elementos en posición par."
   ]
  },
  {
   "cell_type": "code",
   "execution_count": 5,
   "metadata": {
    "collapsed": true
   },
   "outputs": [],
   "source": [
    "def Sub_Lista(L):\n",
    "    try:\n",
    "        if type(L)==list:\n",
    "            return [L[i] for i in range(0,len(L)) if i%2==0]\n",
    "    except ValueError:\n",
    "                print(\"Solo funciona con Listas!\")\n",
    "    "
   ]
  },
  {
   "cell_type": "markdown",
   "metadata": {},
   "source": [
    "6.Extended la función anterior para que, dada una lista y unos índices, nos devuelva la lista\n",
    "resultado de coger sólo los elementos indicados por los índices. Por ejemplo si tenemos la\n",
    "lista [1,2,3,4,5,6] y los índices [0,1,3] debería devolver la lista [1,2,4]."
   ]
  },
  {
   "cell_type": "code",
   "execution_count": 6,
   "metadata": {
    "collapsed": true
   },
   "outputs": [],
   "source": [
    "#Función que regresa la sublista con los índices elegidos\n",
    "\n",
    "def Sub_Lista2(L,Indices):\n",
    "    try:\n",
    "        if type(L)==list and type(Indices)==list:\n",
    "            return [L[i] for i in Indices]\n",
    "    except ValueError:\n",
    "                print(\"Solo funciona con Listas!\")\n"
   ]
  },
  {
   "cell_type": "code",
   "execution_count": 7,
   "metadata": {},
   "outputs": [
    {
     "data": {
      "text/plain": [
       "[1, 3, 4]"
      ]
     },
     "execution_count": 7,
     "metadata": {},
     "output_type": "execute_result"
    }
   ],
   "source": [
    "L=[1,2,3,4,5]\n",
    "Indices=[0,2,3]\n",
    "Sub_Lista2(L,Indices)"
   ]
  },
  {
   "cell_type": "markdown",
   "metadata": {},
   "source": [
    "7.Escribid una función que nos devuelva cuántas veces aparece cada una de las palabras\n",
    "de un texto (frecuencia de aparición de las palabras). Para ello podéis usar un diccionario\n",
    "donde la llave sea cada una de las palabras del texto y el contenido guarde el número de\n",
    "apariciones de la palabra. Para simplificar el ejercicio, podéis usar el método split(’ ’), que,\n",
    "dado un separador (el espacio), nos devuelve una lista con todas las palabras de un texto de\n",
    "forma separada. Por ejemplo: ’hola esto es un ejemplo’.split(’ ’) nos devolvería: [’hola’, ’esto’,\n",
    "’es’, ’un’, ’ejemplo’]"
   ]
  },
  {
   "cell_type": "code",
   "execution_count": 8,
   "metadata": {},
   "outputs": [
    {
     "name": "stdout",
     "output_type": "stream",
     "text": [
      "{'ejercicio': 2, 'para': 1, 'contar': 1, 'la': 1, 'aparicion': 1, 'de': 2, 'cada': 1, 'palabra': 1, 'este': 1}\n"
     ]
    }
   ],
   "source": [
    "Cadena='Ejercicio para contar la aparicion de cada palabra de este ejercicio'\n",
    "\n",
    "def conteo_de_palabras(cadena):\n",
    "    cadenas = cadena.lower().split()\n",
    "    Dict = {}\n",
    "    for item in cadenas:\n",
    "        if item in Dict:\n",
    "            Dict[item] += 1\n",
    "        else:\n",
    "            Dict[item] = 1\n",
    "    print(Dict)\n",
    "    \n",
    "conteo_de_palabras(Cadena)"
   ]
  },
  {
   "cell_type": "markdown",
   "metadata": {},
   "source": [
    "8.Escribid una función que devuelva un conjunto formado por los números compuestos\n",
    "(no primos) menores que un N dado."
   ]
  },
  {
   "cell_type": "code",
   "execution_count": 9,
   "metadata": {},
   "outputs": [
    {
     "name": "stdout",
     "output_type": "stream",
     "text": [
      "[0, 4, 6, 8, 9, 10, 12, 14, 15, 16, 18, 20, 21, 22, 24, 25, 26, 27, 28, 30, 32, 33, 34, 35, 36, 38, 39, 40, 42, 44, 45, 46, 48, 49, 50]\n"
     ]
    }
   ],
   "source": [
    "def Primo(V1):\n",
    "    if V1==0:\n",
    "        return False\n",
    "    elif V1==2 or V1==1:\n",
    "        return True\n",
    "    else:\n",
    "        for i in range(2,V1):\n",
    "            if(V1%i)==0:\n",
    "                return False\n",
    "                break\n",
    "        return True\n",
    "\n",
    "def Compuestos(N):\n",
    "    return [i for i in range(N) if Primo(i)==False]\n",
    "\n",
    "#Se imprimen los númros compuestos antes del 51\n",
    "print(Compuestos(51))"
   ]
  },
  {
   "cell_type": "code",
   "execution_count": 10,
   "metadata": {},
   "outputs": [
    {
     "data": {
      "text/plain": [
       "[0, 4, 6, 8, 9]"
      ]
     },
     "execution_count": 10,
     "metadata": {},
     "output_type": "execute_result"
    }
   ],
   "source": [
    "Compuestos(10)"
   ]
  },
  {
   "cell_type": "markdown",
   "metadata": {},
   "source": [
    "9.Escribid una función que lea el contenido de un fichero de texto y nos dé la frecuencia de aparición de cada palabra. Podéis usar el código del ejercicio 7, en el que se usaban diccionarios para contar las apariciones de cada palabra."
   ]
  },
  {
   "cell_type": "code",
   "execution_count": 11,
   "metadata": {
    "collapsed": true
   },
   "outputs": [],
   "source": [
    "#Dejamos el poema de Pablo Neruda \"Mis Obligaciones\" en un archivo txt.\n",
    "\n",
    "#Función para contar las palabras de un archivo\n",
    "\n",
    "def conteo_file(file):\n",
    "    with open(file, 'r') as myfile:\n",
    "        texto=myfile.read().replace('\\n', '')\n",
    "        return print(conteo_de_palabras(texto))"
   ]
  },
  {
   "cell_type": "code",
   "execution_count": 13,
   "metadata": {},
   "outputs": [
    {
     "name": "stdout",
     "output_type": "stream",
     "text": [
      "{'cumpliendo': 1, 'con': 2, 'mi': 2, 'oficiopiedra': 1, 'piedra,': 1, 'pluma': 1, 'a': 1, 'pluma,pasa': 1, 'el': 4, 'invierno': 1, 'y': 3, 'dejasitios': 1, 'abandonados,habitaciones': 1, 'muertas:yo': 1, 'trabajo': 1, 'trabajo,debo': 1, 'substituirtantos': 1, 'olvidos,llenar': 1, 'de': 4, 'pan': 1, 'las': 1, 'tinieblas,fundar': 1, 'otra': 1, 'vez': 1, 'la': 4, 'esperanza.no': 1, 'es': 1, 'para': 2, 'mí': 1, 'sino': 1, 'polvo,la': 1, 'lluvia': 1, 'cruel': 1, 'estación,no': 1, 'me': 1, 'reservo': 1, 'nadasino': 1, 'todo': 1, 'espacioy': 1, 'allí': 1, 'trabajar,': 1, 'trabajar,manifestar': 1, 'primavera.a': 1, 'todos': 1, 'tengo': 1, 'que': 1, 'dar': 1, 'algocada': 1, 'semana': 1, 'cada': 1, 'día,un': 1, 'regalo': 1, 'color': 1, 'azul,un': 1, 'pétalo': 1, 'frío': 1, 'del': 1, 'bosque,y': 1, 'ya': 1, 'mañana': 1, 'estoy': 2, 'vivomientras': 1, 'los': 1, 'otros': 1, 'se': 1, 'sumergenen': 1, 'pereza,': 1, 'en': 1, 'amor,yo': 1, 'limpiando': 1, 'campana,mi': 1, 'corazón,': 1, 'mis': 1, 'herramientas.tengo': 1, 'rocío': 1, 'todos.': 1}\n",
      "None\n"
     ]
    }
   ],
   "source": [
    "conteo_file('Doc/Poema_Neruda.txt')"
   ]
  }
 ],
 "metadata": {
  "kernelspec": {
   "display_name": "Python 3",
   "language": "python",
   "name": "python3"
  },
  "language_info": {
   "codemirror_mode": {
    "name": "ipython",
    "version": 3
   },
   "file_extension": ".py",
   "mimetype": "text/x-python",
   "name": "python",
   "nbconvert_exporter": "python",
   "pygments_lexer": "ipython3",
   "version": "3.6.0"
  }
 },
 "nbformat": 4,
 "nbformat_minor": 2
}
