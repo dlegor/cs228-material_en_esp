{
 "cells": [
  {
   "cell_type": "markdown",
   "metadata": {},
   "source": [
    "Ejercicio Python\n",
    "=========\n",
    "\n",
    "Los siguientes son ejercicios son propuestos en las notas:\n",
    "** El lenguaje Python**\n",
    "\n",
    "Escrito por el profesor [David Masip Rodó](http://sunai.uoc.edu/~dmasipr/) de la Universidad Oberta de Cataluña.\n",
    "\n",
    "Dejé escrito el enunciado original y las soluciones son mi propuesta de solución, cualquiera puede modificar y hacer su versión. \n",
    "\n",
    "\n",
    "* 1.- Escribir una función que reciba una lista y regrese una lista con los mismo elementos pero ordenados al reves. No usar el método reverse() de tipo de dato List.\n",
    "\n",
    "* 2.Escribid una función que, dado un número entero N, devuelva una lista con todos los\n",
    "números primos hasta N. Para solucionar el ejercicio debéis crear una función auxiliar que\n",
    "indique si un determinado número es primo (retornando un valor booleano).\n",
    "\n",
    "* 3.Escribid una función que reciba una tupla compuesta por caracteres, y devuelva una lista\n",
    "con los caracteres en mayúsculas. Debéis recorrer la tupla carácter a carácter para realizar\n",
    "la conversión. Para convertir un carácter a mayúscula podéis usar el método upper(). Por\n",
    "ejemplo ’a’.upper() nos devuelve ’A’.\n",
    "\n",
    "* 4.Convertid el texto ’ejemplo’ en una lista que contenga sus 7 caracteres. Después conver-\n",
    "tidlo en una tupla y usando la función del ejercicio anterior obtened una lista con el texto\n",
    "en mayúsculas.\n",
    "\n",
    "* 5.Escribid una función que, dada una lista de números, devuelva una lista con sólo los\n",
    "elementos en posición par.\n",
    "\n",
    "* 6.Extended la función anterior para que, dada una lista y unos índices, nos devuelva la lista\n",
    "resultado de coger sólo los elementos indicados por los índices. Por ejemplo si tenemos la\n",
    "lista [1,2,3,4,5,6] y los índices [0,1,3] debería devolver la lista [1,2,4].\n",
    "\n",
    "* 7.Escribid una función que nos devuelva cuántas veces aparece cada una de las palabras\n",
    "de un texto (frecuencia de aparición de las palabras). Para ello podéis usar un diccionario\n",
    "donde la llave sea cada una de las palabras del texto y el contenido guarde el número de\n",
    "apariciones de la palabra. Para simplificar el ejercicio, podéis usar el método split(’ ’), que,\n",
    "dado un separador (el espacio), nos devuelve una lista con todas las palabras de un texto de\n",
    "forma separada. Por ejemplo: ’hola esto es un ejemplo’.split(’ ’) nos devolvería: [’hola’, ’esto’,\n",
    "’es’, ’un’, ’ejemplo’].\n",
    "\n",
    "* 8.Escribid una función que devuelva un conjunto formado por los números compuestos\n",
    "(no primos) menores que un N dado.\n",
    "\n",
    "* 9.Escribid una función que lea el contenido de un fichero de texto y nos dé la frecuencia de aparición de cada palabra. Podéis usar el código del ejercicio 7, en el que se usaban diccionarios para contar las apariciones de cada palabra."
   ]
  }
 ],
 "metadata": {
  "kernelspec": {
   "display_name": "Python 3",
   "language": "python",
   "name": "python3"
  },
  "language_info": {
   "codemirror_mode": {
    "name": "ipython",
    "version": 3
   },
   "file_extension": ".py",
   "mimetype": "text/x-python",
   "name": "python",
   "nbconvert_exporter": "python",
   "pygments_lexer": "ipython3",
   "version": "3.6.0"
  }
 },
 "nbformat": 4,
 "nbformat_minor": 2
}
