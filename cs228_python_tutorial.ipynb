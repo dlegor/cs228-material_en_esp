{
 "cells": [
  {
   "cell_type": "markdown",
   "metadata": {},
   "source": [
    "Tutorial de NumPy de Python\n",
    "===============\n",
    "\n",
    "El tutorial es prácticamente la versión en español del copartido por la [Universidad de Stanfod](https://www.stanford.edu/) en la clase [cs231](http://cs231n.stanford.edu/), con algunas adecuaciones a Python3 y algunos comentarios extra que no se citan en el tutorial original. El material original fue creado por [Justin Johnson](http://cs.stanford.edu/people/jcjohns/).\n",
    "\n",
    "[Python]() es un lenguaje de proposito general con capacidades para hacer programació orientada a objetos, programación interactiva, programación estructurada y en menor medida programación funcional.Junto con algunas bibliotecas populares como Numpy, SciPy, matplotlib y Pandas se obtienen un potente entorno de computo científico.\n",
    "\n",
    "El material de este tutorial es dirigido a personas con poco conocimiento de Python, su finalidad es mostrar las propiedades generales del uso de NumPy, SciPy y Matplolib. Pero también aspecto de la programación básica en este lenguaje.\n",
    "\n",
    "Si se cuenta con conocimientos en [Matlab](https://es.mathworks.com/products/matlab.html) se puede consultar la siguiente liga para revisar las diferencias y similitudes con NumPy.\n",
    "\n",
    "* [NumPy para usuarios de Matlab](https://docs.scipy.org/doc/numpy-dev/user/numpy-for-matlab-users.html)\n",
    "\n",
    "La versión original del material escrito por Justin Johnson se puede encontrar [aquí](http://cs231n.github.io/python-numpy-tutorial/).\n",
    "\n",
    "\n",
    "# Tabla de Contenido\n",
    "  1. [Python](#Python)<a id='Python'></a>\n",
    "     * 1.1 [Básicos](#Básicos)\n",
    "     * 1.2 [Colecciones](#Colecciones)\n",
    "       * 1.2.1 [Listas](#Listas)\n",
    "       * 1.2.2 [Diccionarios](#Diccionarios)\n",
    "       * 1.2.3 [Conjuntos](#Conjuntos)\n",
    "       * 1.2.4 [Tuplas](#Tuplas)\n",
    "     * 1.3 [Funciones](#Funciones)\n",
    "     * 1.4 [Clases](#Clases)\n",
    "  2. [NumPy](#NumPy)\n",
    "     * 2.1 [Arreglos](#Arrays)\n",
    "     * 2.2 [Indexado de Matrices](#Indexado)\n",
    "     * 2.3 [Tipo de Datos](#Datos)\n",
    "     * 2.4 [Operaciones con Matrices](#Matrices)\n",
    "     * 2.5 [Broadcasting](#Broadcasting)\n",
    "  3. [Scipy](#Scipy)\n",
    "     * 3.1[Operaciones con Imagenes](#scipy_imagen)\n",
    "     * 3.2[Distacia entre puntos](#Distancia)\n",
    "  4. [Matplolib](#matplolib)\n",
    "     * 4.1 [Graficas Básicas](#plt)\n",
    "     * 4.2 [Subgraficas](#subplot)\n",
    "     * 4.3 [Imagenes](#Imagenes)\n"
   ]
  },
  {
   "cell_type": "markdown",
   "metadata": {},
   "source": [
    "## Python \n",
    "\n",
    "Python es un lenguaje de alto nivel, con [tipado dinámico](https://es.wikipedia.org/wiki/Tipado_din%C3%A1mico) y multiparadigma por que permite diferentes tipo de programación. Una de sus ventajas es la legibilidad al escribir código, ya que se asemeja mucho a escribir seudo-codigo. \n",
    "\n",
    "El primer ejemplo es el algoritmo clásico de [Quicksort](), el código es el siguiente: "
   ]
  },
  {
   "cell_type": "code",
   "execution_count": 1,
   "metadata": {},
   "outputs": [
    {
     "name": "stdout",
     "output_type": "stream",
     "text": [
      "[1, 1, 2, 3, 6, 8, 10]\n"
     ]
    }
   ],
   "source": [
    "#Se define la función \n",
    "def quicksort(arr):\n",
    "    if len(arr) <= 1:\n",
    "        return arr\n",
    "    pivot = arr[len(arr)//2]\n",
    "    left = [x for x in arr if x < pivot]\n",
    "    middle = [x for x in arr if x == pivot]\n",
    "    right = [x for x in arr if x > pivot]\n",
    "    return quicksort(left) + middle + quicksort(right)\n",
    "\n",
    "\n",
    "#Se aplica a una lista\n",
    "print(quicksort([3,6,8,10,1,2,1]))\n",
    "\n",
    "#La salida es \"[1, 1, 2, 3, 6, 8, 10]\""
   ]
  },
  {
   "cell_type": "markdown",
   "metadata": {},
   "source": [
    "### Version de Python \n",
    "\n",
    "Hay en general dos versiones de Python, la 2.7 y la 3.X. No son del todo compatibles, hay código que funciona en la versión 2.7 y que no funciona en la versión 3 y viseversa. Se tiene contemplado que Python 2.7 dejará de ser soportado en años futuros y se continuará con Python 3.\n",
    "\n",
    "Se puede encontrar información sobre los detalles de porqué trabajan diferente las dos versiones en las siguientes ligas:\n",
    "* [Dive into Python](http://www.diveintopython3.net/whats-new.html)\n",
    "* [From __future__ import Python](http://www.oreilly.com/programming/free/from-future-import-python.csp)\n",
    "\n",
    "Para revisar la version que se tiene instalada se puede hacer desde el Notebook ejecutando en una celda el siguiente código.\n",
    "``` bash\n",
    "!python --version\n",
    "```"
   ]
  },
  {
   "cell_type": "code",
   "execution_count": 2,
   "metadata": {},
   "outputs": [
    {
     "name": "stdout",
     "output_type": "stream",
     "text": [
      "Python 3.6.0 :: Anaconda custom (64-bit)\r\n"
     ]
    }
   ],
   "source": [
    "!python --version"
   ]
  },
  {
   "cell_type": "markdown",
   "metadata": {},
   "source": [
    "## Básicos\n",
    "\n",
    "\n",
    "Como todo lenguaje de programación, Python cuenta con tipos de datos básicos entre los cuales se encuentran los numéricos como integer,floats; lógicos o Booleanos y cadenas.\n",
    "\n",
    "El código siguiente son ejemplos de como trabajan los tipos de datos básicos."
   ]
  },
  {
   "cell_type": "code",
   "execution_count": 3,
   "metadata": {},
   "outputs": [
    {
     "name": "stdout",
     "output_type": "stream",
     "text": [
      "<class 'int'>\n",
      "3\n",
      "4\n",
      "2\n",
      "6\n",
      "9\n",
      "4\n",
      "8\n",
      "<class 'float'>\n",
      "2.5 3.5 5.0 6.25\n"
     ]
    }
   ],
   "source": [
    "#Se define un entero\n",
    "x = 3\n",
    "print(type(x)) # Se presenta \"<class 'int'>\"\n",
    "print(x)       # Se presenta el entero \"3\"\n",
    "print(x + 1)   # Suma; se imprime \"4\"\n",
    "print(x - 1)   # Sustracción; se imprime \"2\"\n",
    "print(x * 2)   # Multiplicacion;se imprime  \"6\"\n",
    "print(x ** 2)  # Exponentes;se imprime \"9\"\n",
    "x += 1\n",
    "print(x)  # Se imprime \"4\"\n",
    "x *= 2\n",
    "print(x)  # Se imprime \"8\"\n",
    "y = 2.5\n",
    "print(type(y)) # Se imprime \"<class 'float'>\"\n",
    "print(y, y + 1, y * 2, y ** 2) # Se imprime \"2.5 3.5 5.0 6.25\""
   ]
  },
  {
   "cell_type": "markdown",
   "metadata": {},
   "source": [
    "\n",
    "Python no cuenta con incrementos o decrementos unitarios, donde se pondría el código como:\n",
    "\n",
    "``` python\n",
    "x++\n",
    "x--\n",
    "```\n",
    "También se cuentan con soporte de números Long o Complex, se puede revisar la documentación [aquí](https://docs.python.org/3/library/stdtypes.html).\n",
    "\n",
    "Todas las operaciones lógicas usuales son soportadas y se cuenta con la notación usual para sentencias lógicas."
   ]
  },
  {
   "cell_type": "code",
   "execution_count": 4,
   "metadata": {},
   "outputs": [
    {
     "name": "stdout",
     "output_type": "stream",
     "text": [
      "<class 'bool'>\n",
      "False\n",
      "True\n",
      "False\n",
      "True\n"
     ]
    }
   ],
   "source": [
    "t = True\n",
    "f = False\n",
    "print(type(t)) # Se imprime \"<type 'bool'>\"\n",
    "print(t and f) #AND;imprime \"False\"\n",
    "print(t or f)  #OR; imprime \"True\"\n",
    "print(not t)   #NOT;imprime \"False\"\n",
    "print(t != f)  #XOR;imprime \"True\""
   ]
  },
  {
   "cell_type": "markdown",
   "metadata": {},
   "source": [
    "**Cadenas**"
   ]
  },
  {
   "cell_type": "code",
   "execution_count": 5,
   "metadata": {},
   "outputs": [
    {
     "name": "stdout",
     "output_type": "stream",
     "text": [
      "hello\n",
      "5\n",
      "hello world\n",
      "hello world 12\n"
     ]
    }
   ],
   "source": [
    "hello = 'hello'   # String literals can use single quotes\n",
    "world = \"world\"   # or double quotes; it does not matter.\n",
    "print(hello)       # Imprime \"hello\"\n",
    "print(len(hello))  # Longitud de la cadena; imprime \"5\"\n",
    "hw = hello + ' ' + world  # Concatenación de cadenas\n",
    "print(hw)          # imprime \"hello world\"\n",
    "hw12 = '%s %s %d' % (hello, world, 12)  #Formato de Cadenas\n",
    "print(hw12)  #Imprime \"hello world 12\""
   ]
  },
  {
   "cell_type": "markdown",
   "metadata": {},
   "source": [
    "Se cuenta con varios método para trabajar con **cadenas**. "
   ]
  },
  {
   "cell_type": "code",
   "execution_count": 6,
   "metadata": {},
   "outputs": [
    {
     "name": "stdout",
     "output_type": "stream",
     "text": [
      "Hello\n",
      "HELLO\n",
      "  hello\n",
      " hello \n",
      "he(ell)(ell)o\n",
      "world\n"
     ]
    }
   ],
   "source": [
    "s = \"hello\"\n",
    "print(s.capitalize())  # Mayusculas; imprime \"Hello\"\n",
    "print(s.upper())       # Conversion a minusculas; imprime \"HELLO\"\n",
    "print(s.rjust(7))      # Formato de Cadenas; imprime \"  hello\"\n",
    "print(s.center(7))     # Formato de Cadenas; imprime \" hello \"\n",
    "print(s.replace('l', '(ell)'))  # Remplaza una cadena por otra;\n",
    "                               # imprime \"he(ell)(ell)o\"\n",
    "print('  world '.strip())  #Se eleminan espacio en blanco; imprime \"world\""
   ]
  },
  {
   "cell_type": "markdown",
   "metadata": {},
   "source": [
    "Para profundizar en los métodos y el procesamiento de cadenas en Python, se puede consultar [aquí](https://docs.python.org/3/library/stdtypes.html#text-sequence-type-str)."
   ]
  },
  {
   "cell_type": "markdown",
   "metadata": {},
   "source": [
    "## Colecciones\n",
    "\n",
    "Python incluye varios tipos de contenedores o tipos de datos:listas, diccionarios, conjuntos y tuplas."
   ]
  },
  {
   "cell_type": "markdown",
   "metadata": {},
   "source": [
    "### Listas\n",
    "\n",
    "Una lista en Python es equivalente a un array, pero puede modificarse su tamaño y puede contener elementos de diferentes tipos de datos."
   ]
  },
  {
   "cell_type": "code",
   "execution_count": 7,
   "metadata": {},
   "outputs": [
    {
     "name": "stdout",
     "output_type": "stream",
     "text": [
      "[3, 1, 2] 2\n",
      "2\n",
      "[3, 1, 'foo']\n",
      "[3, 1, 'foo', 'bar']\n",
      "bar [3, 1, 'foo']\n"
     ]
    }
   ],
   "source": [
    "xs = [3, 1, 2]   # Se crea una lista\n",
    "print(xs, xs[2])  # Se imprime \"[3, 1, 2] 2\"\n",
    "print(xs[-1])     # Los indices negativos son posiciones desde el final de la lista; imprime \"2\"\n",
    "xs[2] = 'foo'    # Las listas pueden contener elementos de diferentes tipos de datos\n",
    "print(xs)         # Imprime \"[3, 1, 'foo']\"\n",
    "xs.append('bar') # Agrega un nuevo elementos al final de la lista\n",
    "print(xs)         # Imprime \"[3, 1, 'foo', 'bar']\"\n",
    "x = xs.pop()     # Quita el último elemento de la lista\n",
    "print(x, xs)      # imprime  \"bar [3, 1, 'foo']\""
   ]
  },
  {
   "cell_type": "markdown",
   "metadata": {},
   "source": [
    "La información sobre las listas en Python se encuentra [aquí](https://docs.python.org/3/tutorial/datastructures.html).\n",
    "\n",
    "**Slicing:** seleccionar o acceder a elemetos de una listas. En python se tiene una sintaxis amigable para tomar sublistas o elementos.\n",
    "\n",
    "*Nota:* Las posiciones en Python inician en 0, no con el indice 1. Ejemplo comparado con Octave y R.\n",
    "\n",
    "``` bash\n",
    "#En R\n",
    "a=c(1,2,3)\n",
    "a[1]\n",
    "#Imprime 1\n",
    "1\n",
    "\n",
    "#En Octave\n",
    "a=[1 2 3]\n",
    "a(1)\n",
    "#Imprime\n",
    "1\n",
    "\n",
    "#En Python\n",
    "a=[1,2,3]\n",
    "a[1]\n",
    "#Imprime\n",
    "2\n",
    "```"
   ]
  },
  {
   "cell_type": "code",
   "execution_count": 8,
   "metadata": {},
   "outputs": [
    {
     "name": "stdout",
     "output_type": "stream",
     "text": [
      "[0, 1, 2, 3, 4]\n",
      "[2, 3]\n",
      "[2, 3, 4]\n",
      "[0, 1]\n",
      "[0, 1, 2, 3, 4]\n",
      "[0, 1, 2, 3]\n",
      "[0, 1, 8, 9, 4]\n"
     ]
    }
   ],
   "source": [
    "nums = list(range(5))  # Se crea una rango de enteros hasta antes del número 5 \n",
    "print(nums)         # Se imprime \"[0, 1, 2, 3, 4]\"\n",
    "print(nums[2:4])    # Se eligen desde la posición 2 hasta antes del 4;se imprime \"[2, 3]\"\n",
    "print(nums[2:])     # Se elige desde la posicion 2 hasta el final de la lista; se imprime \"[2, 3, 4]\"\n",
    "print(nums[:2])     # Se elige hasta antes de la posición 2; se imprime \"[0, 1]\"\n",
    "print(nums[:])      # Se elige toda la lista; se imprime [\"0, 1, 2, 3, 4]\"\n",
    "print(nums[:-1])    # Se elige hasta antes de la última posición; se imprime [\"0, 1, 2, 3]\"\n",
    "nums[2:4] = [8, 9]  # Nueva sublista\n",
    "print(nums)         # Se imprime \"[0, 1, 8, 9, 4]\""
   ]
  },
  {
   "cell_type": "markdown",
   "metadata": {},
   "source": [
    "La selección de elementos o el uso de sciling es sumamente útil para el manejo de arrays en NumPy.\n",
    "\n",
    "**Loops sobre listas**\n",
    "\n",
    "Se puede hacer ciclos o Loops sobre los elementos de la lista.\n"
   ]
  },
  {
   "cell_type": "code",
   "execution_count": 9,
   "metadata": {},
   "outputs": [
    {
     "name": "stdout",
     "output_type": "stream",
     "text": [
      "cat\n",
      "dog\n",
      "monkey\n"
     ]
    }
   ],
   "source": [
    "#Se contruye una lista con cadenas\n",
    "animals = ['cat', 'dog', 'monkey']\n",
    "\n",
    "#Se realiza el ciclo\n",
    "for animal in animals:\n",
    "    print(animal)\n",
    "# Se imprime \"cat\", \"dog\", \"monkey\", each on its own line."
   ]
  },
  {
   "cell_type": "markdown",
   "metadata": {},
   "source": [
    "Si se desea tener acceso a los índices de cada elemento en el ciclo, se puede usar la función **enumerate**:"
   ]
  },
  {
   "cell_type": "code",
   "execution_count": 10,
   "metadata": {},
   "outputs": [
    {
     "name": "stdout",
     "output_type": "stream",
     "text": [
      "#1: cat\n",
      "#2: dog\n",
      "#3: monkey\n"
     ]
    }
   ],
   "source": [
    "animals = ['cat', 'dog', 'monkey']\n",
    "for idx, animal in enumerate(animals):\n",
    "    print('#%d: %s' % (idx + 1, animal))\n",
    "# Se imprime \"#1: cat\", \"#2: dog\", \"#3: monkey\""
   ]
  },
  {
   "cell_type": "markdown",
   "metadata": {},
   "source": [
    "Listas por comprensión: facilitan la generación de listas desde otra lista. En situaciones donde se desea transformar, filtrar u operar sobre los elementos de una lista y dejarlos en otra lista puede ser últil en lugar de hacer un cíclo.  \n",
    "\n",
    "Ejemplo, se desea crear una lista donde los elementos sean los números elevados al cuadrado que se encuentran en otra lista."
   ]
  },
  {
   "cell_type": "code",
   "execution_count": 11,
   "metadata": {},
   "outputs": [
    {
     "name": "stdout",
     "output_type": "stream",
     "text": [
      "[0, 1, 4, 9, 16]\n"
     ]
    }
   ],
   "source": [
    "#Se crea una lista con los números originales\n",
    "nums = [0, 1, 2, 3, 4]\n",
    "\n",
    "#List auxiliar\n",
    "squares = []\n",
    "\n",
    "#Ciclo para operar sobre la lista\n",
    "for x in nums:\n",
    "    squares.append(x ** 2)\n",
    "    \n",
    "print(squares)   # Se imprime [0, 1, 4, 9, 16]\n"
   ]
  },
  {
   "cell_type": "markdown",
   "metadata": {},
   "source": [
    "Usando listas por comprensión el programa queda así:"
   ]
  },
  {
   "cell_type": "code",
   "execution_count": 12,
   "metadata": {},
   "outputs": [
    {
     "name": "stdout",
     "output_type": "stream",
     "text": [
      "[0, 1, 4, 9, 16]\n"
     ]
    }
   ],
   "source": [
    "#Se crea una lista con los números originales\n",
    "nums = [0, 1, 2, 3, 4]\n",
    "\n",
    "#Lista con los cuadrados\n",
    "squares=[i**2 for i in nums]\n",
    "\n",
    "print(squares)"
   ]
  },
  {
   "cell_type": "markdown",
   "metadata": {},
   "source": [
    "Se pueden agregar condiciones de decisiones en las listas por comprensión. Los siguientes ejemplos muestran como se haría por ciclos y despúes en listas por comprensión."
   ]
  },
  {
   "cell_type": "code",
   "execution_count": 13,
   "metadata": {},
   "outputs": [
    {
     "name": "stdout",
     "output_type": "stream",
     "text": [
      "[0, 4, 16]\n"
     ]
    }
   ],
   "source": [
    "#Realizado por un Cíclo\n",
    "\n",
    "#Se crea una lista con los números originales\n",
    "nums = [0, 1, 2, 3, 4]\n",
    "\n",
    "#List auxiliar\n",
    "squares = []\n",
    "\n",
    "#Ciclo para operar sobre la lista\n",
    "for x in nums:\n",
    "    if(x%2==0):\n",
    "        squares.append(x ** 2)\n",
    "    \n",
    "print(squares)   # Se imprime [0, 1, 4, 9, 16]\n"
   ]
  },
  {
   "cell_type": "code",
   "execution_count": 14,
   "metadata": {},
   "outputs": [
    {
     "name": "stdout",
     "output_type": "stream",
     "text": [
      "[0, 4, 16]\n"
     ]
    }
   ],
   "source": [
    "#Por listas por comprensión\n",
    "\n",
    "#Se crea una lista con los números originales\n",
    "nums = [0, 1, 2, 3, 4]\n",
    "\n",
    "#Lista con los cuadrados\n",
    "squares=[i**2 for i in nums if i%2==0]\n",
    "\n",
    "print(squares)"
   ]
  },
  {
   "cell_type": "markdown",
   "metadata": {},
   "source": [
    "### Diccionarios\n",
    "\n",
    "Un diccionario son objetos que tienen para cada elemento un (clave,valor). Estos son similares a los Map() de Java, Scala o JavaScript."
   ]
  },
  {
   "cell_type": "code",
   "execution_count": 15,
   "metadata": {},
   "outputs": [
    {
     "name": "stdout",
     "output_type": "stream",
     "text": [
      "cute\n",
      "True\n",
      "wet\n",
      "N/A\n",
      "wet\n",
      "N/A\n"
     ]
    }
   ],
   "source": [
    "d = {'cat': 'cute', 'dog': 'furry'}  # Se crea un diccionario con algunos datos\n",
    "print(d['cat'])       # Se toma el valor que está asociado a la clave 'cat'; imprime \"cute\"\n",
    "print('cat' in d)     # Se valida si una clave está en el diccionario; se imprime \"True\"\n",
    "d['fish'] = 'wet'    # Se agrega una nueva clave y con su valor\n",
    "print(d['fish'])      # Se imprime \"wet\"\n",
    "# print(d['monkey'])  # Al ejecutarse Python regresa un error por que no existe esa clave\n",
    "print(d.get('monkey', 'N/A'))  # Se da un valor por default; Se imprime \"N/A\"\n",
    "print(d.get('fish', 'N/A'))    # Se imprime un elemento con un valor por default; se imprime \"wet\"\n",
    "del(d['fish'])        # Se remueve la clave y el valor del diccionario\n",
    "print(d.get('fish', 'N/A')) #Ya no hay una clave 'fish'; prints \"N/A\""
   ]
  },
  {
   "cell_type": "markdown",
   "metadata": {},
   "source": [
    "La información sobre diccionario en Python se encuentra [aquí.](https://docs.python.org/3/tutorial/datastructures.html#dictionaries)\n",
    "\n",
    "**Loops**: se puede iterar sobre los diccionarios de manera sencilla."
   ]
  },
  {
   "cell_type": "code",
   "execution_count": 16,
   "metadata": {},
   "outputs": [
    {
     "name": "stdout",
     "output_type": "stream",
     "text": [
      "A person has 2 legs\n",
      "A cat has 4 legs\n",
      "A spider has 8 legs\n"
     ]
    }
   ],
   "source": [
    "#Se crea un diccionario\n",
    "d = {'person': 2, 'cat': 4, 'spider': 8}\n",
    "\n",
    "#Se hace un cíclo sobre las claves del diccionario\n",
    "for animal in d:\n",
    "    legs = d[animal]\n",
    "    print('A %s has %d legs' % (animal, legs))\n",
    "# Se imprime \"A person has 2 legs\", \"A spider has 8 legs\", \"A cat has 4 legs\""
   ]
  },
  {
   "cell_type": "markdown",
   "metadata": {},
   "source": [
    "Si se desea iterar sobre las claves y valores del diccionario se puede hacer uso del método **items**."
   ]
  },
  {
   "cell_type": "code",
   "execution_count": 17,
   "metadata": {},
   "outputs": [
    {
     "name": "stdout",
     "output_type": "stream",
     "text": [
      "A person has 2 legs\n",
      "A cat has 4 legs\n",
      "A spider has 8 legs\n"
     ]
    }
   ],
   "source": [
    "#Se crea el diccionario\n",
    "d = {'person': 2, 'cat': 4, 'spider': 8}\n",
    "\n",
    "#Ciclo sobre la clave y el valor del diccionario\n",
    "for animal, legs in d.items():\n",
    "    print('A %s has %d legs' % (animal, legs))\n",
    "# Se imprime \"A person has 2 legs\", \"A spider has 8 legs\", \"A cat has 4 legs\""
   ]
  },
  {
   "cell_type": "markdown",
   "metadata": {},
   "source": [
    "Diccionarios por comprensión, al igual que las listas se puede hacer uso de estas capacidades de Python"
   ]
  },
  {
   "cell_type": "code",
   "execution_count": 18,
   "metadata": {},
   "outputs": [
    {
     "name": "stdout",
     "output_type": "stream",
     "text": [
      "{0: 0, 2: 4, 4: 16}\n"
     ]
    }
   ],
   "source": [
    "#Se crea una lista\n",
    "nums = [0, 1, 2, 3, 4]\n",
    "\n",
    "#Se crea desde la lista un diccionario\n",
    "even_num_to_square = {x: x ** 2 for x in nums if x % 2 == 0}\n",
    "\n",
    "print(even_num_to_square)  # Se imprime \"{0: 0, 2: 4, 4: 16}\""
   ]
  },
  {
   "cell_type": "markdown",
   "metadata": {},
   "source": [
    "Ejemplo de creación de otro diccionario desde un dicionario usando su clave y valor"
   ]
  },
  {
   "cell_type": "code",
   "execution_count": 19,
   "metadata": {},
   "outputs": [
    {
     "data": {
      "text/plain": [
       "{0: 100, 2: 104, 4: 116}"
      ]
     },
     "execution_count": 19,
     "metadata": {},
     "output_type": "execute_result"
    }
   ],
   "source": [
    "#Se usa el diccionario creado anteriormente\n",
    "{clave:valor+100 for clave, valor in even_num_to_square.items()}"
   ]
  },
  {
   "cell_type": "markdown",
   "metadata": {},
   "source": [
    "## Conjuntos\n",
    "\n",
    "Un conjunto es una colección de elementos no ordenada. El siguiente código es un ejemplo."
   ]
  },
  {
   "cell_type": "code",
   "execution_count": 20,
   "metadata": {},
   "outputs": [
    {
     "name": "stdout",
     "output_type": "stream",
     "text": [
      "True\n",
      "False\n",
      "True\n",
      "3\n",
      "3\n",
      "2\n"
     ]
    }
   ],
   "source": [
    "animals = {'cat', 'dog'}\n",
    "print('cat' in animals)    # Checa si el elemento esta en el conjunto;imprime \"True\"\n",
    "print('fish' in animals)   # Imprime \"False\"\n",
    "animals.add('fish')         # Agrega un elemento al conjunto\n",
    "print('fish' in animals)    # Imprime \"True\"\n",
    "print(len(animals))         # Cantidad de elementos en el conjunto;imprime \"3\"\n",
    "animals.add('cat')          # Si se agrega un elemento que ya está en el conjunto, no lo modifica el conjunto\n",
    "print(len(animals))         # Imprime \"3\"\n",
    "animals.remove('cat')       # Quita un elemento del conjunto\n",
    "print(len(animals))         # Imprime \"2\""
   ]
  },
  {
   "cell_type": "markdown",
   "metadata": {},
   "source": [
    "La documentación sobre conjuntos en Pyhton se puede consultar [aquí.](https://docs.python.org/3/tutorial/datastructures.html)\n",
    "\n",
    "**Loops o ciclos:** se pueden hacer sobre los conjuntos similarmente a como se procesan sobre listas, lo único a tomar en cuenta es que los conjuntos no son ordenados. Pero para mostrar los elementos enumerados se puede usar la función **enumerate**."
   ]
  },
  {
   "cell_type": "code",
   "execution_count": 21,
   "metadata": {},
   "outputs": [
    {
     "name": "stdout",
     "output_type": "stream",
     "text": [
      "#1: dog\n",
      "#2: fish\n",
      "#3: cat\n"
     ]
    }
   ],
   "source": [
    "animals = {'cat', 'dog', 'fish'}\n",
    "for idx, animal in enumerate(animals):\n",
    "    print('#%d: %s' % (idx + 1, animal))\n",
    "# Imprime \"#1: fish\", \"#2: dog\", \"#3: cat\""
   ]
  },
  {
   "cell_type": "markdown",
   "metadata": {},
   "source": [
    "**Conjuntos por comprensión:** se contruyen con la misma notació que los dicionarios, con la diferencia de las condición sobre las claves y valores."
   ]
  },
  {
   "cell_type": "code",
   "execution_count": 22,
   "metadata": {},
   "outputs": [
    {
     "name": "stdout",
     "output_type": "stream",
     "text": [
      "{0, 1, 2, 3, 4, 5}\n"
     ]
    }
   ],
   "source": [
    "from math import sqrt\n",
    "nums = {int(sqrt(x)) for x in range(30)}\n",
    "print(nums)  # Imprime \"set([0, 1, 2, 3, 4, 5])\""
   ]
  },
  {
   "cell_type": "markdown",
   "metadata": {},
   "source": [
    "## Tuplas\n",
    "\n",
    "Las **tuplas** son similares a las listas, solo que no son [inmutables](https://es.wikipedia.org/wiki/Objeto_inmutable). Esa propiedad de permite que se pueden considerar como conjunto de claves para un diccionario o elementos de un conjunto, comparado con las listas. El código siguiente son ejemplos sencillos del manejo de tuplas.  "
   ]
  },
  {
   "cell_type": "code",
   "execution_count": 23,
   "metadata": {},
   "outputs": [
    {
     "name": "stdout",
     "output_type": "stream",
     "text": [
      "{(0, 1): 0, (1, 2): 1, (2, 3): 2, (3, 4): 3, (4, 5): 4, (5, 6): 5, (6, 7): 6, (7, 8): 7, (8, 9): 8, (9, 10): 9}\n",
      "<class 'tuple'>\n",
      "5\n",
      "1\n"
     ]
    }
   ],
   "source": [
    "d = {(x, x + 1): x for x in range(10)}  #Crea un diccionario con elementos de una tupla\n",
    "print(d)          # Imprime el diccionario\n",
    "t = (5, 6)        # Crea una tupla\n",
    "print(type(t))    # Imprime \"<type 'tuple'>\"\n",
    "print(d[t])       # Imprime \"5\"\n",
    "print(d[(1, 2)])  # Imprime \"1\""
   ]
  },
  {
   "cell_type": "markdown",
   "metadata": {},
   "source": [
    "La documentación  correspondiente a las tuplas se puede consultar [aquí.](https://docs.python.org/3/library/stdtypes.html#tuple)\n",
    "\n",
    "## Funciones\n",
    "\n",
    "Se definen funciones en Python al iniciar con la palabra reservada **`def`**. Por ejemplo:"
   ]
  },
  {
   "cell_type": "code",
   "execution_count": 24,
   "metadata": {},
   "outputs": [
    {
     "name": "stdout",
     "output_type": "stream",
     "text": [
      "negativo\n",
      "cero\n",
      "positivo\n"
     ]
    }
   ],
   "source": [
    "def sign(x):\n",
    "    if x > 0:\n",
    "        return 'positivo'\n",
    "    elif x < 0:\n",
    "        return 'negativo'\n",
    "    else:\n",
    "        return 'cero'\n",
    "\n",
    "for x in [-1, 0, 1]:\n",
    "    print(sign(x))\n",
    "# Imprime  \"negativo\", \"cero\", \"positivo\""
   ]
  },
  {
   "cell_type": "markdown",
   "metadata": {},
   "source": [
    "Se puede pasar parámetros a las funciones por ejemplo:"
   ]
  },
  {
   "cell_type": "code",
   "execution_count": 25,
   "metadata": {},
   "outputs": [
    {
     "name": "stdout",
     "output_type": "stream",
     "text": [
      "Hello, Bob\n",
      "HELLO, FRED!\n"
     ]
    }
   ],
   "source": [
    "def hello(name, loud=False):\n",
    "    if loud:\n",
    "        print('HELLO, %s!'% name.upper())\n",
    "    else:\n",
    "        print('Hello, %s'% name)\n",
    "\n",
    "hello('Bob') # Imprime \"Hello, Bob\"\n",
    "hello('Fred', loud=True)  # Imprime \"HELLO, FRED!\"\n"
   ]
  },
  {
   "cell_type": "markdown",
   "metadata": {},
   "source": [
    "La documentación correspondiente a las funciones en Python se puede consultar [aquí.](https://docs.python.org/3/tutorial/controlflow.html#defining-functions)\n",
    "\n",
    "\n",
    "## Clases\n",
    "La definicón de clases en Python es sencilla, solo necesita iniciarse con la palabra reservada **```class```**."
   ]
  },
  {
   "cell_type": "code",
   "execution_count": 26,
   "metadata": {},
   "outputs": [
    {
     "name": "stdout",
     "output_type": "stream",
     "text": [
      "Hola, Arturo\n",
      "Hola, ARTURO!\n"
     ]
    }
   ],
   "source": [
    "class Greeter(object):\n",
    "    \n",
    "    # Se contruye la clase\n",
    "    def __init__(self, name):\n",
    "        self.name = name  # Se crea el la variable del objeto\n",
    "        \n",
    "    # Métodos\n",
    "    def greet(self, loud=False):\n",
    "        if loud:\n",
    "            print('Hola, %s!' % self.name.upper())\n",
    "        else:\n",
    "            print('Hola, %s' % self.name)\n",
    "        \n",
    "g = Greeter('Arturo')  # Construye una instancia de la clase Greeter\n",
    "g.greet()            # Se llama al metodo del objeto; imprime \"Hello, Fred\"\n",
    "g.greet(loud=True)   # Se llama a un método del objeto; imprime \"HELLO, FRED!\""
   ]
  },
  {
   "cell_type": "markdown",
   "metadata": {},
   "source": [
    "La documentación de las **clases** en Python se pued consultar [aquí.](https://docs.python.org/3/tutorial/classes.html) \n",
    "\n",
    "<a name='NumPy'></a>\n",
    "## Numpy\n",
    "\n",
    "Numpy es una de las principales bibliotecas para computo científico en Python. Tienen un capacidades para la manipulación de de arrays multidimensionales y operar con esos objectos. La manipulación de los objetos en Numpy pueden ser vistas como las realizadas con Matlab y Octave.\n",
    "\n",
    "<a name='Arrays'></a>\n",
    "## Arreglos\n",
    "\n",
    "Una matriz o array (arreglo) en Numpy es un \"grid\" o cuadrícula de valores, todos del mismo tipo, y con una tupla de enteros no negativos como índices. El número de dimensiones es la cantidad de filas o rango del arreglo; la forma (shape) del arreglo es la dada por una tupla de enteros lo cuales indican la dimensión del arreglo.\n",
    "\n",
    "Se accede a los elementos del arreglo por medio de los paréntesis cuadrados:"
   ]
  },
  {
   "cell_type": "code",
   "execution_count": 27,
   "metadata": {},
   "outputs": [
    {
     "name": "stdout",
     "output_type": "stream",
     "text": [
      "<class 'numpy.ndarray'>\n",
      "(3,)\n",
      "1 2 3\n",
      "[5 2 3]\n",
      "(2, 3)\n",
      "1 2 4\n"
     ]
    }
   ],
   "source": [
    "import numpy as np\n",
    "\n",
    "a = np.array([1, 2, 3])  # Crea un array de rango 1\n",
    "print(type(a))            # Se imprime \"<class 'numpy.ndarray'>\"\n",
    "print(a.shape)            # Se imprime \"(3,)\"\n",
    "print(a[0],a[1],a[2])   # Se imprime \"1 2 3\"\n",
    "a[0] = 5                 # Se cambia un elemento del arreglo\n",
    "print(a)                  # Se imprime \"[5, 2, 3]\"\n",
    "\n",
    "b = np.array([[1,2,3],[4,5,6]])   # Se crea un arreglo de rango 2\n",
    "print(b.shape)                     # Se imprime \"(2, 3)\"\n",
    "print(b[0, 0], b[0, 1], b[1, 0])   # Se imprime \"1 2 4\""
   ]
  },
  {
   "cell_type": "markdown",
   "metadata": {},
   "source": [
    "En Numpy se cuentan con muchas funciones para la creación de arreglos:"
   ]
  },
  {
   "cell_type": "code",
   "execution_count": 28,
   "metadata": {},
   "outputs": [
    {
     "name": "stdout",
     "output_type": "stream",
     "text": [
      "[[ 0.  0.]\n",
      " [ 0.  0.]]\n",
      "\n",
      "[[ 1.  1.]]\n",
      "\n",
      "[[7 7]\n",
      " [7 7]]\n",
      "\n",
      "[[ 1.  0.]\n",
      " [ 0.  1.]]\n",
      "\n",
      "[[ 0.757801    0.10701251]\n",
      " [ 0.60534794  0.47380857]]\n",
      "\n"
     ]
    }
   ],
   "source": [
    "import numpy as np\n",
    "\n",
    "a = np.zeros((2,2))  # crea un arreglo de puros ceros\n",
    "print(a)              # Imprime \"[[ 0.  0.]\n",
    "print()               #          [ 0.  0.]]\"\n",
    "    \n",
    "b = np.ones((1,2))   # Crea un arreglo con puros unos\n",
    "print(b)            # Imprime \"[[ 1.  1.]]\"\n",
    "print()\n",
    "\n",
    "c = np.full((2,2), 7) # Crea un arreglo constante\n",
    "print(c)            # Imprime \"[[ 7.  7.]\n",
    "print()             #          [ 7.  7.]]\"\n",
    "\n",
    "d = np.eye(2)        # Crea una matriz indentidad 2x2\n",
    "print(d)            # Imprime \"[[ 1.  0.]\n",
    "print()             #          [ 0.  1.]]\"\n",
    "    \n",
    "e = np.random.random((2,2)) # Crea una arreglo con números aleatorios\n",
    "print(e)                     # Imprime \"[[ 0.91940167  0.08143941]\n",
    "print()                      #               [ 0.68744134  0.87236687]]\""
   ]
  },
  {
   "cell_type": "markdown",
   "metadata": {},
   "source": [
    "Para consultar más información sobre la creación y manipulación de arregos (arrays), se puede consultar [aquí.]()\n",
    "<a name='Indexado'></a>\n",
    "## Indexado de Matrices\n",
    "\n",
    "Numpy ofrece varios modos de manipular los arreglos por su indexado.\n",
    "\n",
    "**Sciling**: es similar a como se manejan las lista de Python. Como el arreglo puede ser multidimensional, la manipulación debe ser más especifica para cada dimensión:"
   ]
  },
  {
   "cell_type": "code",
   "execution_count": 29,
   "metadata": {},
   "outputs": [
    {
     "name": "stdout",
     "output_type": "stream",
     "text": [
      "[[2 3]\n",
      " [6 7]]\n",
      "2\n",
      "77\n"
     ]
    }
   ],
   "source": [
    "import numpy as np\n",
    "\n",
    "# Se crea un arreglo de rango 2 y con forma (3,4)\n",
    "# [[ 1  2  3  4]\n",
    "#  [ 5  6  7  8]\n",
    "#  [ 9 10 11 12]]\n",
    "a = np.array([[1,2,3,4], [5,6,7,8], [9,10,11,12]])\n",
    "\n",
    "# Usando slicing se elige el subarreglo que consiste de las primeras 2 filas \n",
    "# y la columna 1 y 2; b es un arreglo de la forma (2,2)\n",
    "# [[2 3]\n",
    "#  [6 7]]\n",
    "b = a[:2, 1:3]\n",
    "print(b)\n",
    "# A slice of an array is a view into the same data, so modifying it\n",
    "# will modify the original array.\n",
    "print(a[0, 1])   # Prints \"2\"\n",
    "b[0, 0] = 77    # b[0, 0] is the same piece of data as a[0, 1]\n",
    "print(a[0, 1])   # Prints \"77\""
   ]
  },
  {
   "cell_type": "markdown",
   "metadata": {},
   "source": [
    "Para hacer selecciones de submatriz se combina el manejo de los indices, los ejemplos siguentes muestran como se hace la selección de una fila y todas las columnas."
   ]
  },
  {
   "cell_type": "code",
   "execution_count": 30,
   "metadata": {},
   "outputs": [
    {
     "name": "stdout",
     "output_type": "stream",
     "text": [
      "[5 6 7 8] (4,)\n",
      "[[5 6 7 8]] (1, 4)\n",
      "[ 2  6 10] (3,)\n",
      "[[ 2]\n",
      " [ 6]\n",
      " [10]] (3, 1)\n"
     ]
    }
   ],
   "source": [
    "import numpy as np\n",
    "\n",
    "# Crea un arreglo de rango 2 y forma (3, 4)\n",
    "# [[ 1  2  3  4]\n",
    "#  [ 5  6  7  8]\n",
    "#  [ 9 10 11 12]]\n",
    "a = np.array([[1,2,3,4], [5,6,7,8], [9,10,11,12]])\n",
    "\n",
    "# Dos ejemplos de como extraer los datos de una fila.\n",
    "\n",
    "row_r1 = a[1, :]    # Se elige la segunda fila del arreglo  \n",
    "row_r2 = a[1:2, :]  # Segunda selección de la segunda fila del arreglo\n",
    "print(row_r1, row_r1.shape)  # Se imprime \"[5 6 7 8] (4,)\"\n",
    "print(row_r2, row_r2.shape)  # Se imprime \"[[5 6 7 8]] (1, 4)\"\n",
    "\n",
    "# Se puede hacer lo mismo para manipular las columnas del arreglo:\n",
    "col_r1 = a[:, 1]\n",
    "col_r2 = a[:, 1:2]\n",
    "print(col_r1, col_r1.shape)  # Se imprime \"[ 2  6 10] (3,)\"\n",
    "print(col_r2, col_r2.shape)  # Se imprime \"[[ 2]\n",
    "                            #          [ 6]\n",
    "                            #          [10]] (3, 1)\""
   ]
  },
  {
   "cell_type": "markdown",
   "metadata": {},
   "source": [
    "**Selección por posición:** \n",
    "Integer array indexing: When you index into numpy arrays using slicing, the resulting array view will always be a subarray of the original array. In contrast, integer array indexing allows you to construct arbitrary arrays using the data from another array. Here is an example:"
   ]
  },
  {
   "cell_type": "code",
   "execution_count": 31,
   "metadata": {},
   "outputs": [
    {
     "name": "stdout",
     "output_type": "stream",
     "text": [
      "Arreglo inicial\n",
      "[[1 2]\n",
      " [3 4]\n",
      " [5 6]]\n",
      "Forma del arreglo\n",
      "(3, 2)\n",
      "\n",
      "[1 4 5]\n",
      "[1 4 5]\n",
      "[2 2]\n",
      "[2 2]\n"
     ]
    }
   ],
   "source": [
    "import numpy as np\n",
    "\n",
    "a = np.array([[1,2], [3, 4], [5, 6]])\n",
    "\n",
    "print(\"Arreglo inicial\")\n",
    "print(a)#Se imprime el arreglo\n",
    "print(\"Forma del arreglo\")\n",
    "print(a.shape)\n",
    "print()\n",
    "\n",
    "# Ejemplo del manejo de los arreglos por sus índices enteros \n",
    "print(a[[0, 1, 2], [0, 1, 0]])  # Se imprime \"[1 4 5]\"\n",
    "\n",
    "# Un modo equivalente al elegir por indices cada elemento del arreglo:\n",
    "print(np.array([a[0, 0], a[1, 1], a[2, 0]]))  # Prints \"[1 4 5]\"\n",
    "\n",
    "#Se puede elegir del arreglo un subarreglo y luego de ese subarreglo elegir \n",
    "# la fila o columna que se desea\n",
    "#para que sea más clara la siguiente selección se puede ejecurar primero las dos lineas comentadas abajo\n",
    "#print(a[[0, 0]) #Imprime [[1 2] \n",
    "                 #        [1 2]]\n",
    "print(a[[0, 0], [1, 1]])  # Imprime \"[2 2]\"\n",
    "\n",
    "# Equivalente a la seleccion previa pero haciendo doble selección \n",
    "print(np.array([a[0, 1], a[0, 1]]))  # Imprime \"[2 2]\""
   ]
  },
  {
   "cell_type": "markdown",
   "metadata": {},
   "source": [
    "Otra opción que permite la selección por índices enteros es la mutación o selección de elementos por cada fila de la matriz."
   ]
  },
  {
   "cell_type": "code",
   "execution_count": 32,
   "metadata": {},
   "outputs": [
    {
     "name": "stdout",
     "output_type": "stream",
     "text": [
      "Visualizacion del arreglo creado\n",
      "[[ 1  2  3]\n",
      " [ 4  5  6]\n",
      " [ 7  8  9]\n",
      " [10 11 12]]\n",
      "[ 1  6  7 11]\n",
      "[[11  2  3]\n",
      " [ 4  5 16]\n",
      " [17  8  9]\n",
      " [10 21 12]]\n"
     ]
    }
   ],
   "source": [
    "import numpy as np\n",
    "\n",
    "# Se crea un arreglo\n",
    "a = np.array([[1,2,3], [4,5,6], [7,8,9], [10, 11, 12]])\n",
    "\n",
    "print(\"Visualizacion del arreglo creado\")\n",
    "print(a)  # Se imprime \"[[ 1,  2,  3],\n",
    "         #                [ 4,  5,  6],\n",
    "         #                [ 7,  8,  9],\n",
    "         #                [10, 11, 12]]\"\n",
    "\n",
    "# Se crea una arreglo de índices\n",
    "b = np.array([0, 2, 0, 1])\n",
    "\n",
    "# Se elige un elemento de cada fila usando el arreglo de indices que se creo\n",
    "print(a[np.arange(4), b])  # Se imprime \"[ 1  6  7 11]\"\n",
    "\n",
    "# Se cambia cada elemento del arreglo que se elige con el arreglo de índices\n",
    "a[np.arange(4), b] += 10\n",
    "\n",
    "print(a)  # Se imprime \"[[11,  2,  3],\n",
    "         #                [ 4,  5, 16],\n",
    "         #                [17,  8,  9],\n",
    "         #                [10, 21, 12]]"
   ]
  },
  {
   "cell_type": "markdown",
   "metadata": {},
   "source": [
    "**Selección por índices Booleanos:** La selección de submatrices o arreglos por índices Booleanos se realiza para elegir elementos que cumplen cierta condición.\n",
    "\n",
    "*Nota*: El tipo de selección por condiciones lógicos resulta my útil al analizar datos no solo numéricos, lo cual se realiza con Pandas que hace uso en su base de los arreglos formados en Numpy."
   ]
  },
  {
   "cell_type": "code",
   "execution_count": 33,
   "metadata": {},
   "outputs": [
    {
     "name": "stdout",
     "output_type": "stream",
     "text": [
      "[[False False]\n",
      " [ True  True]\n",
      " [ True  True]]\n",
      "[3 4 5 6]\n",
      "[3 4 5 6]\n"
     ]
    }
   ],
   "source": [
    "import numpy as np\n",
    "\n",
    "a = np.array([[1,2], [3, 4], [5, 6]])\n",
    "\n",
    "bool_idx = (a > 2)  # Encontrar todos los elementos del arrego que son mayores a 2;\n",
    "                    # esto regresa un arreglo booleano de la misma forma(a.shape).\n",
    "            \n",
    "print(bool_idx)      # Se imprime \"[[False False]\n",
    "                    #          [ True  True]\n",
    "                    #          [ True  True]]\"\n",
    "\n",
    "# Se puede usar el indice booleano para elegir la submatriz que cumple la condición\n",
    "# los elementos que se obtienen son solo aquellos que tienen en su indice booleano \"True\"\n",
    "\n",
    "print(a[bool_idx])  # Se imprime \"[3 4 5 6]\"\n",
    "\n",
    "# Se puede hacer todo lo anterior en una sola línea de manera más concisa:\n",
    "print(a[a > 2])     # Se imprime \"[3 4 5 6]\"\n"
   ]
  },
  {
   "cell_type": "markdown",
   "metadata": {},
   "source": [
    "**Uniendo temas**: En los dos ejemplos anteriores se vio primero un modo de elegir ciertos indices y modificar el contenido del arreglo. En el segundo ejemplo se vio como elegir bajo ciertas indices booleanos o condición lógica un subarreglo o submatriz. Estas dos operaciones se pueden combinar para cambiar los valores de un arreglo que no cumplen alguna condicíon logica"
   ]
  },
  {
   "cell_type": "code",
   "execution_count": 34,
   "metadata": {},
   "outputs": [
    {
     "name": "stdout",
     "output_type": "stream",
     "text": [
      "El arreglo inicial\n",
      "[[1 2]\n",
      " [3 4]\n",
      " [5 6]]\n",
      "El arreglo resultado de la condición lógica\n",
      "[[0 0]\n",
      " [3 4]\n",
      " [5 6]]\n"
     ]
    }
   ],
   "source": [
    "import numpy as np\n",
    "\n",
    "a = np.array([[1,2], [3, 4], [5, 6]])\n",
    "print(\"El arreglo inicial\")\n",
    "print(a)\n",
    "\n",
    "b=np.where(a>2,a,0)\n",
    "\n",
    "print(\"El arreglo resultado de la condición lógica\")\n",
    "print(b)\n"
   ]
  },
  {
   "cell_type": "markdown",
   "metadata": {},
   "source": [
    "El material anterior es una breve intruducción a NumPy y el manejo de sus índices, para aprender más al respecto se puede consultar la documentación [aquí.](https://docs.scipy.org/doc/numpy-1.12.0/user/quickstart.html#fancy-indexing-and-index-tricks)\n",
    "\n",
    "<a name='Datos'></a>\n",
    "\n",
    "## Tipo de Datos\n",
    "\n",
    "En general los arreglos de NumPy son numéricos, para ello hay forma de especificar el tipo de dato numérico que se va a manejar, ejemplo:"
   ]
  },
  {
   "cell_type": "code",
   "execution_count": 35,
   "metadata": {},
   "outputs": [
    {
     "name": "stdout",
     "output_type": "stream",
     "text": [
      "int64\n",
      "float64\n",
      "float64\n"
     ]
    }
   ],
   "source": [
    "import numpy as np\n",
    "\n",
    "x = np.array([1, 2])  # Se visualiza el tipo de dato que asigno \n",
    "print(x.dtype)         # Se imprime \"int64\"\n",
    "\n",
    "x = np.array([1.0, 2.0])  # Se asigna el tipo de dato por inferencia\n",
    "print(x.dtype)             # Se imprime \"float64\"\n",
    "\n",
    "x = np.array([1, 2], dtype=np.float64)  # Se forza a que el tipo de dato sea definido\n",
    "print(x.dtype)                         # Se imprime \"int64\""
   ]
  },
  {
   "cell_type": "markdown",
   "metadata": {},
   "source": [
    "REspecto a la asignación de los tipos de datos en numpy se puede leer en la documentación [aquí](https://docs.scipy.org/doc/numpy-1.12.0/user/basics.types.html)\n",
    "\n",
    "\n",
    "<a name='Matrices'></a>\n",
    "## Operaciones con Matrices\n",
    "\n",
    "Las operaciones aritméticas básicas se pueden realizar con las matrices y además se cuenta con operaciones y funciones especificas de Matrices.\n",
    "\n",
    "Las operaciones aritméticas se deben de considerar que Numpy permite el computo \"vectorizado\" lo cual permite hacer u operar sobre todos lo elementos de la matriz."
   ]
  },
  {
   "cell_type": "code",
   "execution_count": 36,
   "metadata": {},
   "outputs": [
    {
     "name": "stdout",
     "output_type": "stream",
     "text": [
      "[[  6.   8.]\n",
      " [ 10.  12.]]\n",
      "[[  6.   8.]\n",
      " [ 10.  12.]]\n",
      "[[-4. -4.]\n",
      " [-4. -4.]]\n",
      "[[-4. -4.]\n",
      " [-4. -4.]]\n",
      "[[  5.  12.]\n",
      " [ 21.  32.]]\n",
      "[[  5.  12.]\n",
      " [ 21.  32.]]\n",
      "[[ 0.2         0.33333333]\n",
      " [ 0.42857143  0.5       ]]\n",
      "[[ 0.2         0.33333333]\n",
      " [ 0.42857143  0.5       ]]\n",
      "[[ 1.          1.41421356]\n",
      " [ 1.73205081  2.        ]]\n"
     ]
    }
   ],
   "source": [
    "import numpy as np\n",
    "\n",
    "x = np.array([[1,2],[3,4]], dtype=np.float64)\n",
    "y = np.array([[5,6],[7,8]], dtype=np.float64)\n",
    "\n",
    "# Se realiza la suma elemento a elemento.Se regresa la matriz:\n",
    "# [[ 6.0  8.0]\n",
    "#  [10.0 12.0]]\n",
    "print(x + y)\n",
    "print(np.add(x, y))\n",
    "\n",
    "# Se realiza la diferencia elemento a elemento. Se regresa la matriz:\n",
    "# [[-4.0 -4.0]\n",
    "#  [-4.0 -4.0]]\n",
    "print(x - y)\n",
    "print(np.subtract(x, y))\n",
    "\n",
    "# Se realiza la multiplicación elemento a elemento. Se regresa la matriz:\n",
    "# [[ 5.0 12.0]\n",
    "#  [21.0 32.0]]\n",
    "print(x * y)\n",
    "print(np.multiply(x, y))\n",
    "\n",
    "# Se realiza la división elemento a elemento. Se regresa la matriz:\n",
    "# [[ 0.2         0.33333333]\n",
    "#  [ 0.42857143  0.5       ]]\n",
    "print(x / y)\n",
    "print(np.divide(x, y))\n",
    "\n",
    "# Se realiza la raiz cuadrada elemento a elemento. Se regresa la matriz:\n",
    "# [[ 1.          1.41421356]\n",
    "#  [ 1.73205081  2.        ]]\n",
    "print(np.sqrt(x))\n"
   ]
  },
  {
   "cell_type": "markdown",
   "metadata": {},
   "source": [
    "Se observa de las operaciones anteriores que **`*`** es el operados para multiplicar elemento a elemento, pero no para el producto de matrices. Para realizar los productos de matrices, producto interno entre vectores o producto vector/matriz se debe de usar el método **`.dot`**.\n",
    "\n",
    "Los siguientes ejemplos muestran su uso:"
   ]
  },
  {
   "cell_type": "code",
   "execution_count": 37,
   "metadata": {},
   "outputs": [
    {
     "name": "stdout",
     "output_type": "stream",
     "text": [
      "219\n",
      "219\n",
      "[29 67]\n",
      "[29 67]\n",
      "[[19 22]\n",
      " [43 50]]\n",
      "[[19 22]\n",
      " [43 50]]\n"
     ]
    }
   ],
   "source": [
    "import numpy as np\n",
    "\n",
    "x = np.array([[1,2],[3,4]])\n",
    "y = np.array([[5,6],[7,8]])\n",
    "\n",
    "v = np.array([9,10])\n",
    "w = np.array([11, 12])\n",
    "\n",
    "# Producto interno de vectores\n",
    "print(v.dot(w))\n",
    "print(np.dot(v, w))\n",
    "\n",
    "# Producto Matriz / vector\n",
    "print(x.dot(v))\n",
    "print(np.dot(x, v))\n",
    "\n",
    "#Producto Matriz / matriz\n",
    "# [[19 22]\n",
    "#  [43 50]]\n",
    "print(x.dot(y))\n",
    "print (np.dot(x, y))"
   ]
  },
  {
   "cell_type": "markdown",
   "metadata": {},
   "source": [
    "Numpy cuenta con varias funciones para operar sobre los arreglos, ejemplo realizar la suma sobre columnas o filas, o realizar la suma acumulada de una columna."
   ]
  },
  {
   "cell_type": "code",
   "execution_count": 38,
   "metadata": {},
   "outputs": [
    {
     "name": "stdout",
     "output_type": "stream",
     "text": [
      "10\n",
      "[ 1  3  6 10]\n",
      "[4 6]\n",
      "[3 7]\n"
     ]
    }
   ],
   "source": [
    "import numpy as np\n",
    "\n",
    "x = np.array([[1,2],[3,4]])\n",
    "\n",
    "print(np.sum(x))# Se calcula la suma de todos los elementos; se imprime 10\n",
    "print(np.cumsum(x)) #Se calcula la suma acumulada de cada par de elementos; se imprime [1 3 6 10]\n",
    "print(np.sum(x, axis=0))  # Se calcula la suma de cada columna; se imprime \"[4 6]\"\n",
    "print (np.sum(x, axis=1))  # Se calcula la suma de cada fila; se imprime \"[3 7]\"\n"
   ]
  },
  {
   "cell_type": "markdown",
   "metadata": {},
   "source": [
    "Para aprender más sobre las funciones disponibles en Numpy se puede consultar la documentación [aquí.](https://docs.scipy.org/doc/numpy/reference/routines.math.html)\n",
    "\n",
    "Parte importante de la manipulación de datos no es solo el aplicar alguna función o selección una submatriz; también el hacer algunas transformaciones del arreglo como la transpuesta, cambiar la forma de la matriz, etc. El siguente ejemplo muestra como realizar esto en Numpy."
   ]
  },
  {
   "cell_type": "code",
   "execution_count": 39,
   "metadata": {},
   "outputs": [
    {
     "name": "stdout",
     "output_type": "stream",
     "text": [
      "[[1 2]\n",
      " [3 4]]\n",
      "[[1 3]\n",
      " [2 4]]\n",
      "[1 2 3]\n",
      "[1 2 3]\n",
      "[[1 2 3 4]]\n"
     ]
    }
   ],
   "source": [
    "import numpy as np\n",
    "\n",
    "x = np.array([[1,2], [3,4]])\n",
    "print(x)    # Se imprime \"[[1 2]\n",
    "           #          [3 4]]\"\n",
    "print(x.T)  # Se imprime \"[[1 3]\n",
    "           #          [2 4]]\"\n",
    "\n",
    "#Se toma un vector y se muestra después ese vector pero transpuesto.\n",
    "v = np.array([1,2,3])\n",
    "print(v)    # Se imprime \"[1 2 3]\"\n",
    "print(v.T)  # Se imprime \"[1 2 3]\"\n",
    "\n",
    "#Se cambia la forma de la matriz x por un vector\n",
    "print(x.reshape([1,4]))"
   ]
  },
  {
   "cell_type": "markdown",
   "metadata": {},
   "source": [
    "Para aprender más sobre la manipulación de arreglos se puede cosultar [aquí.](https://docs.scipy.org/doc/numpy/reference/routines.array-manipulation.html)\n",
    "\n",
    "<a></a>\n",
    "## Broadcasting\n",
    "\n",
    "**Broadcasting** es un mecanismo (eficiente) para trabajar con arreglos de diferentes tamaños en operaciones aritméticas en Numpy. Lo importante de este mecanísmo se presenta al operar con dos matrices de tamaños diferentes y como la matriz pequeña es manejada por Numpy para operar sobre la matriz grande.\n",
    "\n",
    "Ejemplo, para agregar un elemento constante en una matriz se puede realizar así:"
   ]
  },
  {
   "cell_type": "code",
   "execution_count": 40,
   "metadata": {},
   "outputs": [
    {
     "name": "stdout",
     "output_type": "stream",
     "text": [
      "[[ 2  2  4]\n",
      " [ 5  5  7]\n",
      " [ 8  8 10]\n",
      " [11 11 13]]\n"
     ]
    }
   ],
   "source": [
    "import numpy as np\n",
    "\n",
    "# Se agregará el vector v a cada columna de la matriz x,\n",
    "# este resutado se guardará en una nueva matriz.\n",
    "x = np.array([[1,2,3], [4,5,6], [7,8,9], [10, 11, 12]])\n",
    "v = np.array([1, 0, 1])\n",
    "y = np.empty_like(x)   # Se crea una nueva matriz con la misma forma que x\n",
    "\n",
    "# Se agrega el vectorv a cada fila de la matriz x\n",
    "# Se define un ciclo\n",
    "for i in range(4):\n",
    "    y[i, :] = x[i, :] + v\n",
    "\n",
    "# La salida de y ahora tiene los siguiente valores:\n",
    "# [[ 2  2  4]\n",
    "#  [ 5  5  7]\n",
    "#  [ 8  8 10]\n",
    "#  [11 11 13]]\n",
    "print (y)"
   ]
  },
  {
   "cell_type": "markdown",
   "metadata": {},
   "source": [
    "Lo anterios funciona, pero cuando se opera con matrices muy largas hacer un ciclo de manera explicita resulta ser una operación lenta. Pero esa operación se puede pensar como una operación de matrices donde se suma a *x* una matriz que cuenta un vector *v* en cada fila y luego sumar a *x*. La operación se vería así:"
   ]
  },
  {
   "cell_type": "code",
   "execution_count": 41,
   "metadata": {},
   "outputs": [
    {
     "name": "stdout",
     "output_type": "stream",
     "text": [
      "[[1 0 1]\n",
      " [1 0 1]\n",
      " [1 0 1]\n",
      " [1 0 1]]\n",
      "[[ 2  2  4]\n",
      " [ 5  5  7]\n",
      " [ 8  8 10]\n",
      " [11 11 13]]\n"
     ]
    }
   ],
   "source": [
    "import numpy as np\n",
    "\n",
    "# Se agregará el vector v a cada columna de la matriz x,\n",
    "# este resutado se guardará en una nueva matriz.\n",
    "x = np.array([[1,2,3], [4,5,6], [7,8,9], [10, 11, 12]])\n",
    "v = np.array([1, 0, 1])\n",
    "vv = np.tile(v, (4, 1))  # Se crean 4 copias del vector y se construye una matriz\n",
    "print(vv)                # Se imprime \"[[1 0 1]\n",
    "                         #              [1 0 1]\n",
    "                         #              [1 0 1]\n",
    "                         #              [1 0 1]]\"\n",
    "y = x + vv  # Se suman x  and vv elemento a elemento\n",
    "print (y)  # Se imprime \"[[ 2  2  4\n",
    "           #             [ 5  5  7]\n",
    "           #             [ 8  8 10]\n",
    "           #             [11 11 13]]\""
   ]
  },
  {
   "cell_type": "markdown",
   "metadata": {},
   "source": [
    "El mecanismo broadcasting permite  trabajar de manera más eficiente, evita hacer multiples copias de v o hacer el ciclo como el primer ejemplo:"
   ]
  },
  {
   "cell_type": "code",
   "execution_count": 42,
   "metadata": {},
   "outputs": [
    {
     "name": "stdout",
     "output_type": "stream",
     "text": [
      "[[ 2  2  4]\n",
      " [ 5  5  7]\n",
      " [ 8  8 10]\n",
      " [11 11 13]]\n"
     ]
    }
   ],
   "source": [
    "import numpy as np\n",
    "\n",
    "# Se agregará el vector v a cada columna de la matriz x,\n",
    "# este resutado se guardará en una nueva matriz.\n",
    "x = np.array([[1,2,3], [4,5,6], [7,8,9], [10, 11, 12]])\n",
    "v = np.array([1, 0, 1])\n",
    "y = x + v  # Se suman x y v usando broadcasting\n",
    "print(y)  # Se imprime \"[[ 2  2  4]\n",
    "          #             [ 5  5  7]\n",
    "          #             [ 8  8 10]\n",
    "          #             [11 11 13]]\""
   ]
  },
  {
   "cell_type": "markdown",
   "metadata": {},
   "source": [
    "La línea `y=x+v` en el código anterior trabaja como si sumaramos dos matrices de tamaño (4,3); lo que sucedió es que en la operación el mecanísmo *broadcasting* interviene para tomar a `v` como una matriz de la forma (4,3) y realizar la suma elemento a elemento.\n",
    "\n",
    "Broadcasting funciona bajo las siguentes reglas:\n",
    "\n",
    "* Si dos matrices o arreglos no tienen el mismo tamaño pero comparten una dimensión y se realizará una operación con ellas, prepara la matriz más pequea para tener la misma forma que la matriz de mayor tamaño.\n",
    "* Dos matrices son compatibles para operar si tienen la misma dimensión o una de ellas tiene dimensión 1.\n",
    "\n",
    "La documentación del funcionamiento de Broadcasting se puede consultar [aquí]()\n",
    "\n",
    "Para revisar el tema desde un punto de vista más avanzado se puede consultar el capítulo 12 del libro [*Python for Data Analysis*](http://shop.oreilly.com/product/0636920023784.do) explica algunos ejemplos y en este [artículo.](http://scipy.github.io/old-wiki/pages/EricsBroadcastingDoc)\n",
    "\n",
    "**Un ejemplo visual de lo que hace broadcasting.**\n",
    "\n",
    "El ejemplo anterior al sumar un vector sobre las filas de una matriz puede ser visualizado del siguiente modo:\n",
    "![Broadcasting](Doc/Broadcasting_Numpy_2d.png)\n",
    "\n",
    "\n",
    "Usando el ejemplo anterior al sumar una matriz y un vector usando o no *Broadcasting*, podemos hacer hacer un comparativo del tiempo de ejecución."
   ]
  },
  {
   "cell_type": "code",
   "execution_count": 43,
   "metadata": {},
   "outputs": [
    {
     "name": "stdout",
     "output_type": "stream",
     "text": [
      "CPU times: user 3.68 s, sys: 20 ms, total: 3.7 s\n",
      "Wall time: 3.71 s\n"
     ]
    }
   ],
   "source": [
    "%%time\n",
    "\n",
    "#Eliminar la variables antes de ejcutar con la línea sigueinte\n",
    "#del(x,v,y,i)\n",
    "\n",
    "# este resutado se guardará en una nueva matriz.\n",
    "x = np.ones((1000000,3))\n",
    "v = np.array([1, 0, 1])\n",
    "y = np.empty_like(x)   # Se crea una nueva matriz con la misma forma que x\n",
    "\n",
    "# Se agrega el vectorv a cada fila de la matriz x\n",
    "# Se define un ciclo\n",
    "for i in range(1000000):\n",
    "    y[i, :] = x[i, :] + v\n",
    "\n",
    "\n",
    "#Se muestra abajo de la celda como el resultado de realizar la operación un con en una matriz \n",
    "# de tamaño (1000000,3)"
   ]
  },
  {
   "cell_type": "markdown",
   "metadata": {},
   "source": [
    "Realizamos la misma operación haciendo uso de *broadcasting*."
   ]
  },
  {
   "cell_type": "code",
   "execution_count": 44,
   "metadata": {},
   "outputs": [
    {
     "name": "stdout",
     "output_type": "stream",
     "text": [
      "CPU times: user 12 ms, sys: 8 ms, total: 20 ms\n",
      "Wall time: 18.2 ms\n"
     ]
    }
   ],
   "source": [
    "%%time\n",
    "#Se eliman antes de volver a crear las variables\n",
    "#del(x,v,y,i)\n",
    "\n",
    "x = np.ones((1000000,3))\n",
    "v = np.array([1, 0, 1])\n",
    "y = x + v  # Se suman x y v usando broadcasting\n",
    "\n",
    "#Se muesta abajo de la celda el tiempo estimado de la operación."
   ]
  },
  {
   "cell_type": "markdown",
   "metadata": {},
   "source": [
    "Algunos ejemplos del uso de *broadcasting* se muestran en el siguiente código."
   ]
  },
  {
   "cell_type": "code",
   "execution_count": 79,
   "metadata": {},
   "outputs": [
    {
     "name": "stdout",
     "output_type": "stream",
     "text": [
      "Vectores originales\n",
      "[1 2 3]\n",
      "[4 5]\n",
      "Producto externo\n",
      "[[ 4  5]\n",
      " [ 8 10]\n",
      " [12 15]]\n",
      "\n",
      "[[2 4 6]\n",
      " [5 7 9]]\n",
      "[[ 5  6  7]\n",
      " [ 9 10 11]]\n",
      "[[ 5  6  7]\n",
      " [ 9 10 11]]\n",
      "[[ 2  4  6]\n",
      " [ 8 10 12]]\n"
     ]
    }
   ],
   "source": [
    "import numpy as np\n",
    "\n",
    "# Se crean dos vectores para hacer su producto externo\n",
    "v = np.array([1,2,3])  # v tiene la forma (3,)\n",
    "w = np.array([4,5])    # w tiene la forma (2,)\n",
    "\n",
    "print(\"Vectores originales\")\n",
    "print(v)\n",
    "print(w)\n",
    "# Al cualclarse le producto externo de los vectores se transforma el primer vector a \n",
    "# una columna de la forma (3,1); se utiliza broadcasting para generar la salida que es\n",
    "# de la forma:\n",
    "# [[ 4  5]\n",
    "#  [ 8 10]\n",
    "#  [12 15]]\n",
    "\n",
    "print(\"Producto externo\")\n",
    "print(np.reshape(v, (3, 1)) * w)\n",
    "\n",
    "# Se suman una matriz y un vector\n",
    "x = np.array([[1,2,3], [4,5,6]])\n",
    "# x tiene la forma (2, 3) y v tiene la forma (3,)  mediante broadcasting se obtiene una matriz\n",
    "# de la forma (2, 3):\n",
    "# [[2 4 6]\n",
    "#  [5 7 9]]\n",
    "print()\n",
    "print(x + v)\n",
    "\n",
    "# Se suma un vector a cada columna de x, donde el vector w tiene la forma (2,),\n",
    "# por las reglas del mecanísmo de broadcasting se tomará w como una matriz adecuada\n",
    "# para la suma, la matriz de salida es la siguiente:\n",
    "# [[ 5  6  7]\n",
    "#  [ 9 10 11]]\n",
    "print ((x.T + w).T)\n",
    "# Otra solución es cambiar el vector w de forma por una fila de la forma (2,1)\n",
    "print(x + np.reshape(w, (2, 1)))\n",
    "\n",
    "# Multiplicación de una matriz por una constante:\n",
    "# Se obtiene lo siguente:\n",
    "# [[ 2  4  6]\n",
    "#  [ 8 10 12]]\n",
    "print (x * 2)"
   ]
  },
  {
   "cell_type": "markdown",
   "metadata": {},
   "source": [
    "Hacer uso del mecanímos de broadcasting, permite tener un código más legible y también se tiene mejor rendimiento, como lo mostramos en el ejemplo. Por lo cual es recomendable hacer uso de ello cuando sea posible.\n",
    "\n",
    "**Documentación de Numpy**\n",
    "\n",
    "Los ejemplos anteriores tratan de mostrar de manera breve los tópicos relevantes de Numpy, pero para nada es un material que cubre todos los detalles. Por lo cual la recomendación es acudir a la documentación oficial la cual es basta y cuenta con código de ejemplos en cada sección.\n",
    "\n",
    "* [Documentación de Numpy](https://docs.scipy.org/doc/numpy/user/index.html)\n",
    "\n",
    "<a name='Scipy'></a>\n",
    "# SciPy\n",
    "\n",
    "La manipulación de arreglos o matices se realiza con Numpy, como los ejemplos anteriores. Aunque cuenta con ciertas funciones, SciPy concentra la mayor cantidad de funciones que operan sobre arreglos de Numpy.\n",
    "\n",
    "La lista de funcines que se tienen disponibles en esta biblioteca cubren los siguentes temas:\n",
    "* Funciones especiales\n",
    "* Integración \n",
    "* Optimización \n",
    "* Interpolación\n",
    "* Tranformada de Fourier\n",
    "* Procesamiento de Señales \n",
    "* Álgebra Lineal \n",
    "* Matrices Dispersas\n",
    "* Gráfos Dispersos\n",
    "* Datos Espaciales y algoritmos sobre ellos\n",
    "* Funciones de Estadística\n",
    "* Procesamiento de imagenes\n",
    "\n",
    "<a name='scipy_imagen'></a>\n",
    "\n",
    "## Operación con Imagenes\n",
    "\n",
    "El siguiente ejemplo muestra como leer una imagen y visualizarla.\n"
   ]
  },
  {
   "cell_type": "code",
   "execution_count": 49,
   "metadata": {},
   "outputs": [
    {
     "name": "stdout",
     "output_type": "stream",
     "text": [
      "uint8 (400, 248, 3)\n"
     ]
    }
   ],
   "source": [
    "from scipy.misc import imread, imsave, imresize\n",
    "\n",
    "# Se lee una imgen JPEG como un arreglo en Numpy\n",
    "img = imread('Doc/cat.jpg')\n",
    "print(img.dtype, img.shape)  # Se imprime \"uint8 (400, 248, 3)\"\n",
    "\n",
    "img_tinted = img * [1, 0.95, 0.9]\n",
    "\n",
    "# Resize the tinted image to be 300 by 300 pixels.\n",
    "img_tinted = imresize(img_tinted, (300, 300))\n",
    "\n",
    "# Write the tinted image back to disk\n",
    "imsave('Doc/cat_tinted.jpg', img_tinted)"
   ]
  },
  {
   "cell_type": "markdown",
   "metadata": {},
   "source": [
    "La salid del proceso que se realiza son las siguientes, la primera es la imagen origina y la segunda es la imagen que sufre una cambio en su tamaño.\n",
    "    ![Imagen_1](Doc/cat.jpg)\n",
    "![Imagen_2](Doc/cat_tinted.jpg)"
   ]
  },
  {
   "cell_type": "markdown",
   "metadata": {},
   "source": [
    "<a name='Distancia'></a>\n",
    "## Distancias\n",
    "**Scipy** cuenta con diversas funciones como ya se mencionó, entre ellas se tiene un conjunto de funciones para calcular la distancia entre un conjunto de puntos.\n",
    "\n",
    "El siguiente ejemplo muestra como calcular la distancia entre todos los pares de puntos de un conjunto de puntos."
   ]
  },
  {
   "cell_type": "code",
   "execution_count": 50,
   "metadata": {},
   "outputs": [
    {
     "name": "stdout",
     "output_type": "stream",
     "text": [
      "[[0 1]\n",
      " [1 0]\n",
      " [2 0]]\n",
      "[[ 0.          1.41421356  2.23606798]\n",
      " [ 1.41421356  0.          1.        ]\n",
      " [ 2.23606798  1.          0.        ]]\n"
     ]
    }
   ],
   "source": [
    "import numpy as np\n",
    "from scipy.spatial.distance import pdist, squareform\n",
    "\n",
    "# Se crea el siguiente arreglo de dimensión 2:\n",
    "# [[0 1]\n",
    "#  [1 0]\n",
    "#  [2 0]]\n",
    "x = np.array([[0, 1], [1, 0], [2, 0]])\n",
    "print(x)\n",
    "\n",
    "# Se calcula la distancia sobre cada par de filas del arreglo.\n",
    "# La distancia calculada es la Euclidiana.\n",
    "# Denotando con d() la disntancia, se tiene que se calcula d(X[i,:],x[j,:])\n",
    "# el arreglo que se obtiene es el siguiente:\n",
    "# [[ 0.          1.41421356  2.23606798]\n",
    "#  [ 1.41421356  0.          1.        ]\n",
    "#  [ 2.23606798  1.          0.        ]]\n",
    "d = squareform(pdist(x, 'euclidean'))\n",
    "print(d)"
   ]
  },
  {
   "cell_type": "markdown",
   "metadata": {},
   "source": [
    "Para aprender más sobre todo el conjunto de funciones diponibles en en Scipy se puede consultar la documentación en el sitio [oficial.](http://scipy.github.io/devdocs/index.html)\n",
    "\n",
    "<a name='matplolib'></a>\n",
    "\n",
    "# Matplolib\n",
    "\n",
    "La biblioteca estándar para realizar gráficos en Python es Matplotlib, donde una de sus pricipales función es `plot`. Los ejemplos son `matplotlib.pyploy`.\n",
    "\n",
    "<a name='plt'></a>\n",
    "## Gráficas Sencillas\n",
    "\n",
    "El siguiente es un ejemplo muestra como general un gráfico sencillo en matplolib. Para tener la salida automática dentro del entorno del notebook se debe de configurar la salida.\n",
    "\n"
   ]
  },
  {
   "cell_type": "code",
   "execution_count": 51,
   "metadata": {},
   "outputs": [
    {
     "data": {
      "image/png": "[encoded data removed]",
      "text/plain": [
       "<matplotlib.figure.Figure at 0x7ff011e19898>"
      ]
     },
     "metadata": {},
     "output_type": "display_data"
    }
   ],
   "source": [
    "#La primera línea es la configuración de salida sobre el notebook\n",
    "\n",
    "%matplotlib inline\n",
    "\n",
    "import numpy as np\n",
    "import matplotlib.pyplot as plt\n",
    "\n",
    "# Se generan dos vectores\n",
    "x = np.arange(0, 3 * np.pi, 0.1)\n",
    "y = np.sin(x)\n",
    "\n",
    "# Se realizan las gráficas\n",
    "plt.plot(x, y)\n",
    "plt.show()  "
   ]
  },
  {
   "cell_type": "markdown",
   "metadata": {},
   "source": [
    "Para agregar detalles al gráfico, como nombre a los ejes, título o algún otro detalle es sencillo. Un modo de visualizar la idea de ir asignando características es pensar que se van poniendo piezas por etapas. El siguiente ejemplo muesta como agregar características."
   ]
  },
  {
   "cell_type": "code",
   "execution_count": 53,
   "metadata": {},
   "outputs": [
    {
     "data": {
      "image/png": "[encoded data removed]",
      "text/plain": [
       "<matplotlib.figure.Figure at 0x7ff00d5eb828>"
      ]
     },
     "metadata": {},
     "output_type": "display_data"
    }
   ],
   "source": [
    "import numpy as np\n",
    "import matplotlib.pyplot as plt\n",
    "\n",
    "# Se generan 3 vectores y se gráfican por pares, mostrando la curva de seno() y coseno()\n",
    "x = np.arange(0, 3 * np.pi, 0.1)\n",
    "y_sin = np.sin(x)\n",
    "y_cos = np.cos(x)\n",
    "\n",
    "# Grafico en matplotlib\n",
    "plt.plot(x, y_sin)\n",
    "plt.plot(x, y_cos)\n",
    "plt.xlabel('Eje de las x ')\n",
    "plt.ylabel('Eje de las y')\n",
    "plt.title('Seno y Conseno')\n",
    "plt.legend(['Seno', 'Coseno'])\n",
    "plt.show()"
   ]
  },
  {
   "cell_type": "markdown",
   "metadata": {
    "collapsed": true
   },
   "source": [
    "La documentación del manejo de Matplotlib es amplia y cuenta con una buena galería de ejemplo, se puede consultar [aquí.](https://matplotlib.org/)\n",
    "\n",
    "<a name='subplot'></a>\n",
    "## Subgráficos\n",
    "\n",
    "Para genera varios gráficos en una misma \"salida\" se divide la salida en la cantidad de \"subgráficos\" que se presentanrán. El siguiente ejemplo muestra la manipulación de las salida con 2 gráficos o subgráficos."
   ]
  },
  {
   "cell_type": "code",
   "execution_count": 74,
   "metadata": {},
   "outputs": [
    {
     "data": {
      "image/png": "[encoded data removed]",
      "text/plain": [
       "<matplotlib.figure.Figure at 0x7ff0105070f0>"
      ]
     },
     "metadata": {},
     "output_type": "display_data"
    }
   ],
   "source": [
    "import numpy as np\n",
    "import matplotlib.pyplot as plt\n",
    "\n",
    "# Se generan 3 vectores  y para mostar las curvas de las funciones seno y coseno\n",
    "x = np.arange(0, 3 * np.pi, 0.1)\n",
    "y_sin = np.sin(x)\n",
    "y_cos = np.cos(x)\n",
    "\n",
    "# Se define la salida o cuadrícula para los gráficos de tamaño 2x2\n",
    "\n",
    "# La tripleta de números enteros (a,b,c) indica lo siguiente:\n",
    "# a:número de filas en la cantidad de gráficos\n",
    "# b:número de columnas en la salida\n",
    "# c:la numeráción de los gráficos\n",
    "# Ejemplo: (2,1,2) se indica que se crean 2 filas, 1 columna y es el gráfico 2 de la \"cuadrícula de salida\"\n",
    "\n",
    "\n",
    "#Se genera la primera salida \n",
    "plt.subplot(2, 2, 1)\n",
    "\n",
    "# Primer gráfico\n",
    "plt.plot(x, y_sin)\n",
    "plt.title('Sine')\n",
    "\n",
    "# Se indica el segundo gráfico.\n",
    "plt.subplot(2, 2, 4)\n",
    "plt.plot(x, y_cos)\n",
    "plt.title('Cosine')\n",
    "\n",
    "# Se muestra el gráfico o figura con las dos gráficas\n",
    "plt.show()"
   ]
  },
  {
   "cell_type": "markdown",
   "metadata": {},
   "source": [
    "<a name='Imagenes'></a>\n",
    "## Imagenes\n",
    "\n",
    "Las imagenes generadas en los ejemplos de SciPy se pueden usar para generar subgráficos donde en lugar de tener como salidas en la cuadrícula curvas de funciones se tengan imagnes. El siguiente ejemplo muestra como se genera:"
   ]
  },
  {
   "cell_type": "code",
   "execution_count": 76,
   "metadata": {},
   "outputs": [
    {
     "data": {
      "image/png": "[encoded data removed]",
      "text/plain": [
       "<matplotlib.figure.Figure at 0x7ff00d15d128>"
      ]
     },
     "metadata": {},
     "output_type": "display_data"
    }
   ],
   "source": [
    "import numpy as np\n",
    "from scipy.misc import imread, imresize\n",
    "import matplotlib.pyplot as plt\n",
    "\n",
    "img = imread('Doc/cat.jpg')\n",
    "img_tinted = img * [1, 0.95, 0.9]\n",
    "\n",
    "# Se muesta la imagen original\n",
    "plt.subplot(1, 2, 1)\n",
    "plt.imshow(img)\n",
    "\n",
    "# Se muestra la segunda imagen pero en la posición 4 de la cuadrícula\n",
    "plt.subplot(1, 2, 2)\n",
    "\n",
    "# Se usa imshow para mostrar la salidas de las imagenes\n",
    "plt.imshow(np.uint8(img_tinted))\n",
    "plt.show()"
   ]
  }
 ],
 "metadata": {
  "kernelspec": {
   "display_name": "Python 3",
   "language": "python",
   "name": "python3"
  },
  "language_info": {
   "codemirror_mode": {
    "name": "ipython",
    "version": 3
   },
   "file_extension": ".py",
   "mimetype": "text/x-python",
   "name": "python",
   "nbconvert_exporter": "python",
   "pygments_lexer": "ipython3",
   "version": "3.6.0"
  }
 },
 "nbformat": 4,
 "nbformat_minor": 2
}
